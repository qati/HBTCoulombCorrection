{
 "cells": [
  {
   "cell_type": "code",
   "execution_count": 2,
   "metadata": {
    "collapsed": true
   },
   "outputs": [],
   "source": [
    "import numpy as np\n",
    "import scipy as sp\n",
    "import scipy.special\n",
    "import matplotlib.pyplot as plt\n",
    "import mpmath as mp\n",
    "from mpmath import hyp1f1\n",
    "\n",
    "%matplotlib inline"
   ]
  },
  {
   "cell_type": "code",
   "execution_count": 3,
   "metadata": {
    "collapsed": true
   },
   "outputs": [],
   "source": [
    "import KGInt as kg"
   ]
  },
  {
   "cell_type": "code",
   "execution_count": 3,
   "metadata": {},
   "outputs": [
    {
     "name": "stderr",
     "output_type": "stream",
     "text": [
      "ERROR:root:Cell magic `%%cpp` not found.\n"
     ]
    }
   ],
   "source": [
    "%%cpp\n",
    "\n",
    "double eta_min = 0.;\n",
    "double eta_max = 0.25;\n",
    "int    Neta    = 250;\n",
    "double kr_min  = 0.;\n",
    "double kr_max  = 900;  // kr = 15*rt, if hbarc=200, k=100, Rcc=30\n",
    "int    Nkr     = 18000;"
   ]
  },
  {
   "cell_type": "code",
   "execution_count": 7,
   "metadata": {},
   "outputs": [],
   "source": [
    "N=10\n",
    "etas=np.array([0.2]*N, np.float64)\n",
    "krs=np.linspace(4, 5, N, np.float64)\n",
    "errors =np.array([1e-8]*N, np.float64)\n",
    "int_errors=np.array([1e-6]*N, np.float64)"
   ]
  },
  {
   "cell_type": "markdown",
   "metadata": {},
   "source": [
    "## lok valtozok"
   ]
  },
  {
   "cell_type": "code",
   "execution_count": 8,
   "metadata": {},
   "outputs": [
    {
     "name": "stdout",
     "output_type": "stream",
     "text": [
      "->CPU: elapsed time = 26722.0 ms\n"
     ]
    }
   ],
   "source": [
    "res=kg.integrateACPU(etas,krs, errors, int_errors)"
   ]
  },
  {
   "cell_type": "code",
   "execution_count": 6,
   "metadata": {},
   "outputs": [
    {
     "data": {
      "text/plain": [
       "array([[  1.42598204e+02,   2.92986222e-07],\n",
       "       [  8.16799308e+02,   3.01884778e-07]])"
      ]
     },
     "execution_count": 6,
     "metadata": {},
     "output_type": "execute_result"
    }
   ],
   "source": [
    "res"
   ]
  },
  {
   "cell_type": "code",
   "execution_count": 6,
   "metadata": {},
   "outputs": [
    {
     "name": "stdout",
     "output_type": "stream",
     "text": [
      "->CPU: elapsed time = -1.0 ms\n"
     ]
    }
   ],
   "source": [
    "res=kg.integrateAGPU(1, N, etas,krs, errors, int_errors)"
   ]
  },
  {
   "cell_type": "code",
   "execution_count": null,
   "metadata": {
    "collapsed": true
   },
   "outputs": [],
   "source": []
  }
 ],
 "metadata": {
  "kernelspec": {
   "display_name": "Python [default]",
   "language": "python",
   "name": "python3"
  },
  "language_info": {
   "codemirror_mode": {
    "name": "ipython",
    "version": 3
   },
   "file_extension": ".py",
   "mimetype": "text/x-python",
   "name": "python",
   "nbconvert_exporter": "python",
   "pygments_lexer": "ipython3",
   "version": "3.5.3"
  }
 },
 "nbformat": 4,
 "nbformat_minor": 2
}
