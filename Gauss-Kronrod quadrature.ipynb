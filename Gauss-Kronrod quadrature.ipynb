{
 "cells": [
  {
   "cell_type": "code",
   "execution_count": 1,
   "metadata": {
    "collapsed": true
   },
   "outputs": [],
   "source": [
    "import scipy as sp\n",
    "from scipy import integrate\n",
    "import numpy as np\n",
    "import matplotlib.pyplot as plt\n",
    "import rpy2.robjects as robjects\n",
    "from rpy2.robjects.packages import importr\n",
    "import time\n",
    "import h5py as h5\n",
    "import pycuda.autoinit\n",
    "import pycuda.driver as cuda\n",
    "from pycuda.compiler import SourceModule\n",
    "\n",
    "%matplotlib inline"
   ]
  },
  {
   "cell_type": "markdown",
   "metadata": {},
   "source": [
    "\\begin{equation}\n",
    "\\mathcal{L}(\\boldsymbol{r}, \\alpha, R) =\\mathcal{L}(r, \\alpha, R) = \\frac{4\\pi}{(2\\pi)^3}\\int_0^\\infty \\frac{q\\sin{qr}}{r}e^{-|qR|^\\alpha}dq\n",
    "\\end{equation}\n",
    "\n",
    "\\begin{equation}\n",
    "\\int_a^b f(x)dx = \\frac{b-a}{2}\\int_{-1}^1 f\\bigg(\\frac{b-a}{2}z+\\frac{a+b}{2}\\bigg)dz = \\sum_i w_i f(x_i)\n",
    "\\end{equation}\n",
    "\n",
    "\\begin{equation}\n",
    "    \\int_{z}^{z+\\Delta z} f(x)dx = \\frac{\\Delta z}{2}\\int_{-1}^1 f\\bigg(\\frac{\\Delta z}{2}\\xi+\\frac{2z+\\Delta z}{2}\\bigg)d\\xi = \\sum_i w_i f(\\xi_i)\n",
    "\\end{equation}"
   ]
  },
  {
   "cell_type": "code",
   "execution_count": 2,
   "metadata": {},
   "outputs": [
    {
     "name": "stdout",
     "output_type": "stream",
     "text": [
      "0.0013766304573\n"
     ]
    },
    {
     "data": {
      "text/plain": [
       "[<matplotlib.lines.Line2D at 0x15a6cfca7f0>]"
      ]
     },
     "execution_count": 2,
     "metadata": {},
     "output_type": "execute_result"
    },
    {
     "data": {
      "image/png": "[encoded data removed]",
      "text/plain": [
       "<matplotlib.figure.Figure at 0x15a68b6aac8>"
      ]
     },
     "metadata": {},
     "output_type": "display_data"
    }
   ],
   "source": [
    "alpha=0.7\n",
    "mm = np.power(-np.log(1e-9), 1/alpha)\n",
    "x = np.linspace(0, mm, 1000)\n",
    "y = x*np.sin(x*1)*np.exp(-np.power(x, alpha)/2)\n",
    "print(y[-1]/max(y))\n",
    "plt.plot(x,y)"
   ]
  },
  {
   "cell_type": "code",
   "execution_count": 3,
   "metadata": {
    "collapsed": true
   },
   "outputs": [],
   "source": [
    "mod = SourceModule(\"\"\"\n",
    "#include <nvfunctional>\n",
    "#include <float.h>\n",
    "#include <nppdefs.h>\n",
    "\n",
    "#define M_PI acos(-1.0)\n",
    "\n",
    "template <class T=float, int N=8, int halfN=N/2> class KGInt{\n",
    "  T weights[N], nodes[N];\n",
    "  T targetError, estimatedError;\n",
    "  T integralKronrod, integralGauss, absIntegral, absDiffIntegral;\n",
    "  T f1[N], f2[N];\n",
    "  T fValue1, fValue2;\n",
    "  T center, halfLength, mean;\n",
    "  T _min;\n",
    "  T _eps;\n",
    "  int i,idx;\n",
    "  nvstd::function<void(const T&, T&)> func;\n",
    "  \n",
    "  __device__ void integrateOneStep();\n",
    "  \n",
    "public:\n",
    "  __device__ KGInt():\n",
    "    nodes{\n",
    "          0.99145537112081263920685469752632851664204433837033,\n",
    "          0.94910791234275852452618968404785126240077093767062,\n",
    "          0.86486442335976907278971278864092620121097230707409,\n",
    "          0.74153118559939443986386477328078840707414764714139,\n",
    "          0.58608723546769113029414483825872959843678075060436,\n",
    "          0.40584515137739716690660641207696146334738201409937,\n",
    "          0.20778495500789846760068940377324491347978440714517,\n",
    "          0.00000000000000000000000000000000000000000000000000\n",
    "      },\n",
    "      weights{\n",
    "          0.02293532201052922496373200805896959199356081127575,\n",
    "          0.06309209262997855329070066318920428666507115721155,\n",
    "          0.10479001032225018383987632254151801744375665421383,\n",
    "          0.14065325971552591874518959051023792039988975724800,\n",
    "          0.16900472663926790282658342659855028410624490030294,\n",
    "          0.19035057806478540991325640242101368282607807545536,\n",
    "          0.20443294007529889241416199923464908471651760418072,\n",
    "          0.20948214108472782801299917489171426369776208022370\n",
    "    }{\n",
    "    // Gauss-nodes: 1, 3, 5, 7\n",
    "    _eps = FLT_EPSILON*50.;\n",
    "    _min = NPP_MINABS_32F/_eps;\n",
    "  }\n",
    "  \n",
    "   __device__ double integrate(const nvstd::function<void(const T&, T&)>&, const T&, const T&, const T&);\n",
    "};\n",
    "\n",
    "template<class T, int N, int halfN> __device__ void KGInt<T, N, halfN>::integrateOneStep(){\n",
    "    integralGauss   = .0;\n",
    "    absIntegral     = .0;\n",
    "    for(i=0;i<(halfN-1);i++){\n",
    "      idx = 2*i+1;\n",
    "      func(center+nodes[idx]*halfLength, fValue1);\n",
    "      func(center-nodes[idx]*halfLength, fValue2);\n",
    "      integralGauss += weights[idx]*(fValue1+fValue2);\n",
    "      absIntegral   += weights[idx]*(abs(fValue1)+abs(fValue2));\n",
    "      f1[idx] = fValue1;\n",
    "      f2[idx] = fValue2;\n",
    "    }\n",
    "    func(center, fValue1);\n",
    "    integralGauss += weights[N-1]*fValue1;\n",
    "    absIntegral   += weights[N-1]*abs(fValue1);\n",
    "    f1[N-1] = fValue1;\n",
    "    \n",
    "    integralKronrod = integralGauss;\n",
    "    for(i=0;i<halfN;i++){\n",
    "      idx = 2*i;\n",
    "      func(center+nodes[idx]*halfLength, fValue1);\n",
    "      func(center-nodes[idx]*halfLength, fValue2);\n",
    "      integralKronrod += weights[idx]*(fValue1+fValue2);\n",
    "      absIntegral     += weights[idx]*(abs(fValue1)+abs(fValue2));\n",
    "      f1[idx] = fValue1;\n",
    "      f2[idx] = fValue2;\n",
    "    }\n",
    "    \n",
    "    mean = integralKronrod/2.;\n",
    "    absDiffIntegral = weights[N-1]*abs(f1[N-1]-mean);\n",
    "    for(i=0;i<(N-1);i++){\n",
    "      absDiffIntegral += weights[i]*(abs(f1[i]-mean)+abs(f2[i]-mean));\n",
    "    }\n",
    "    \n",
    "    absIntegral *= halfLength;\n",
    "    absDiffIntegral *= halfLength;\n",
    "    \n",
    "    estimatedError = abs(integralKronrod-integralGauss)*halfLength;\n",
    "    \n",
    "    integralKronrod *= halfLength;\n",
    "    \n",
    "    if (absDiffIntegral!=0. && estimatedError!= 0.){\n",
    "      estimatedError = absDiffIntegral*min(1.,pow(estimatedError*200./absDiffIntegral,1.5));\n",
    "    }\n",
    "    \n",
    "    if (absIntegral>_min){\n",
    "      estimatedError = max(estimatedError, absIntegral*_eps);\n",
    "    }\n",
    "}\n",
    "\n",
    "\n",
    "template<class T,int N, int halfN> __device__ double KGInt<T,N, halfN>::integrate(const nvstd::function<void(const T&, T&)>& f, const T& a, const T& b, const T& error)\n",
    "{  \n",
    "  func = f;\n",
    "  targetError = error;\n",
    "  double z = a;\n",
    "  double dz = 1e-8;\n",
    "  double integral = 0.0;\n",
    "  int j=0;\n",
    "  while(z<b){\n",
    "    for(j=0;j<1000;j++){\n",
    "      center     = z+0.5*dz;\n",
    "      halfLength = 0.5*dz;\n",
    "      integrateOneStep();\n",
    "      if (estimatedError<=targetError) break;\n",
    "      dz *=targetError/estimatedError;\n",
    "    }\n",
    "    integral += integralKronrod;\n",
    "    z += dz;\n",
    "    if (estimatedError<targetError){\n",
    "      dz *= 2;\n",
    "    }\n",
    "  }\n",
    "  return integral;\n",
    "}\n",
    "\n",
    "\n",
    "\n",
    "extern \"C\" {\n",
    "  __global__ void integrate(double * res, float * rs, float * alphas, float * errors, float * errors_rng){\n",
    "      int idx = blockDim.x*blockIdx.x+threadIdx.x;\n",
    "      KGInt<float> imod;\n",
    "      res[idx] = imod.integrate([&alpha=alphas[idx], &r=rs[idx]](const float& x, float& y)->void{\n",
    "         y = x*sinf(x*r)*expf(-powf(x, alpha));\n",
    "      }, .0, powf(-logf(errors_rng[idx]),1/alphas[idx]), errors[idx]);\n",
    "      res[idx] /= 2*M_PI*M_PI*rs[idx];\n",
    "  }\n",
    "}\n",
    "\"\"\", no_extern_c=True,options=[\"--ptxas-options=-v\"])"
   ]
  },
  {
   "cell_type": "code",
   "execution_count": 4,
   "metadata": {
    "collapsed": true
   },
   "outputs": [],
   "source": [
    "cuda_int = mod.get_function(\"integrate\")"
   ]
  },
  {
   "cell_type": "code",
   "execution_count": 5,
   "metadata": {
    "collapsed": true
   },
   "outputs": [],
   "source": [
    "threadN = 1\n",
    "blockN  = 1\n",
    "N = threadN*blockN\n",
    "res = np.array([0.0]*N, dtype=np.float64)\n",
    "rs  = np.array([10.0]*N, dtype=np.float32)\n",
    "alphas = np.array([0.8]*N, dtype=np.float32)\n",
    "errors = np.array([1e-7]*N, dtype=np.float32)\n",
    "errors_rng = np.array([1e-8]*N, dtype=np.float32)"
   ]
  },
  {
   "cell_type": "code",
   "execution_count": 6,
   "metadata": {},
   "outputs": [
    {
     "data": {
      "text/plain": [
       "1.3323707580566406"
      ]
     },
     "execution_count": 6,
     "metadata": {},
     "output_type": "execute_result"
    }
   ],
   "source": [
    "cuda_int(cuda.Out(res), cuda.In(rs), cuda.In(alphas), cuda.In(errors), cuda.In(errors_rng),\n",
    "          block=(threadN,1,1), grid=(blockN,1), time_kernel=True)"
   ]
  },
  {
   "cell_type": "code",
   "execution_count": 7,
   "metadata": {
    "scrolled": true
   },
   "outputs": [
    {
     "data": {
      "text/plain": [
       "1.1252325043417356e-05"
      ]
     },
     "execution_count": 7,
     "metadata": {},
     "output_type": "execute_result"
    }
   ],
   "source": [
    "res[0]"
   ]
  },
  {
   "cell_type": "code",
   "execution_count": 8,
   "metadata": {},
   "outputs": [
    {
     "data": {
      "text/plain": [
       "1.1252382920334281e-05"
      ]
     },
     "execution_count": 8,
     "metadata": {},
     "output_type": "execute_result"
    }
   ],
   "source": [
    "integrate.quad(lambda x: x*np.sin(rs[0]*x)*np.exp(-np.power(x, alphas[0])), 0,np.inf, limit=1000)[0]/(2*rs[0]*np.pi**2)"
   ]
  },
  {
   "cell_type": "code",
   "execution_count": 9,
   "metadata": {},
   "outputs": [],
   "source": [
    "from KGInt import integrate as kgint"
   ]
  },
  {
   "cell_type": "code",
   "execution_count": 10,
   "metadata": {},
   "outputs": [
    {
     "name": "stdout",
     "output_type": "stream",
     "text": [
      "Elapsed time: 118.0 ms\n"
     ]
    },
    {
     "data": {
      "text/plain": [
       "array([[  1.12524014e-05,   2.99356413e-11],\n",
       "       [  1.12524014e-05,   2.99356413e-11],\n",
       "       [  1.12524014e-05,   2.99356413e-11],\n",
       "       [  1.12524014e-05,   2.99356413e-11]])"
      ]
     },
     "execution_count": 10,
     "metadata": {},
     "output_type": "execute_result"
    }
   ],
   "source": [
    "N=4\n",
    "rs=np.array([rs[0]]*N, np.float64)\n",
    "alphas=np.array([alphas[0]]*N, np.float64)\n",
    "errors =np.array([1e-8]*N, np.float64)\n",
    "error_rngs=np.array([1e-9]*N, np.float64)\n",
    "kgint(rs,alphas, errors, error_rngs)"
   ]
  },
  {
   "cell_type": "code",
   "execution_count": null,
   "metadata": {
    "collapsed": true
   },
   "outputs": [],
   "source": []
  }
 ],
 "metadata": {
  "kernelspec": {
   "display_name": "Python [default]",
   "language": "python",
   "name": "python3"
  },
  "language_info": {
   "codemirror_mode": {
    "name": "ipython",
    "version": 3
   },
   "file_extension": ".py",
   "mimetype": "text/x-python",
   "name": "python",
   "nbconvert_exporter": "python",
   "pygments_lexer": "ipython3",
   "version": "3.5.3"
  }
 },
 "nbformat": 4,
 "nbformat_minor": 2
}
