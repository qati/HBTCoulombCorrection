{
 "cells": [
  {
   "cell_type": "code",
   "execution_count": 1,
   "metadata": {
    "collapsed": true
   },
   "outputs": [],
   "source": [
    "import scipy as sp\n",
    "from scipy import integrate\n",
    "import numpy as np\n",
    "import matplotlib.pyplot as plt\n",
    "import rpy2.robjects as robjects\n",
    "from rpy2.robjects.packages import importr\n",
    "import time\n",
    "import pycuda.autoinit\n",
    "import pycuda.driver as cuda\n",
    "from pycuda.compiler import SourceModule\n",
    "\n",
    "%matplotlib inline"
   ]
  },
  {
   "cell_type": "markdown",
   "metadata": {},
   "source": [
    "## CUDA code"
   ]
  },
  {
   "cell_type": "code",
   "execution_count": 2,
   "metadata": {},
   "outputs": [],
   "source": [
    "mod = SourceModule(\"\"\"\n",
    "#include <curand.h>\n",
    "#include <curand_kernel.h>\n",
    "\n",
    "extern \"C\" {\n",
    "    __global__ void init( unsigned long long int* seed, curandState * state){\n",
    "        int id = threadIdx.x;\n",
    "        curand_init(*seed, id, 0, &state[id]);\n",
    "    }\n",
    "    \n",
    "    __device__ float pi(float &x, float *pars){\n",
    "      return expf(-powf(fabsf(x*pars[2]), pars[1]));\n",
    "    }\n",
    "    \n",
    "    __device__ float f(float &x, float *pars){\n",
    "      return cosf(x*pars[0]);\n",
    "    }\n",
    "    \n",
    "    __global__  void mcmc(curandState* states, unsigned int * num_samples, float * Pars, int * npar, \n",
    "                          float * Sigma, float * result){\n",
    "        auto id            = blockIdx.x*blockDim.x + threadIdx.x;\n",
    "        auto state = states[id];\n",
    "        unsigned int N    = *num_samples;\n",
    "        float sigma       = *Sigma;\n",
    "        float *pars       = new float[*npar];\n",
    "        memcpy(pars, &Pars[*npar*id], *npar*sizeof(float));\n",
    "        \n",
    "        float xi = curand_uniform(&state);\n",
    "        float xg = 0.0;\n",
    "        float s  = 0.0;\n",
    "        for(unsigned int i=0;i<N;i++){\n",
    "            xg = sigma*curand_normal(&state)+xi;\n",
    "            if (curand_uniform(&state)<pi(xg, pars)/pi(xi, pars)){\n",
    "              xi = xg;\n",
    "            }\n",
    "            s += f(xi, pars);\n",
    "        }\n",
    "        result[id] = s/float(N);\n",
    "        delete pars;\n",
    "    }\n",
    "}\n",
    "\"\"\", no_extern_c=True, options=[\"--ptxas-options=-v\"])"
   ]
  },
  {
   "cell_type": "markdown",
   "metadata": {},
   "source": [
    "## Getting init and mcmc CUDA functions"
   ]
  },
  {
   "cell_type": "code",
   "execution_count": 3,
   "metadata": {
    "collapsed": true
   },
   "outputs": [],
   "source": [
    "init = mod.get_function(\"init\")\n",
    "mcmc = mod.get_function(\"mcmc\")"
   ]
  },
  {
   "cell_type": "markdown",
   "metadata": {},
   "source": [
    "## Constants"
   ]
  },
  {
   "cell_type": "code",
   "execution_count": 4,
   "metadata": {
    "collapsed": true
   },
   "outputs": [],
   "source": [
    "blocks  = 1\n",
    "threads = 512\n",
    "N      = blocks*threads       # r parameter range divided to N part\n",
    "rrange = [-10,10]   # r parameter range, r Levy parameter\n",
    "alpha  = 1.5        # Levy parameter  \n",
    "R      = 1          # Levy parameter"
   ]
  },
  {
   "cell_type": "code",
   "execution_count": 5,
   "metadata": {
    "collapsed": true
   },
   "outputs": [],
   "source": [
    "num_samples = np.int32(1000000)                  # MCMC path length\n",
    "npar        = np.int32(3)                        # number of parameters: r, alpha, R\n",
    "proposal_sd = np.float32(1.0)                    # xnew = normal(xi, proposal_sigma)\n",
    "res         = np.array([0]*N, dtype=np.float32)  # array for result"
   ]
  },
  {
   "cell_type": "markdown",
   "metadata": {},
   "source": [
    "## Initialize curand"
   ]
  },
  {
   "cell_type": "code",
   "execution_count": 6,
   "metadata": {
    "collapsed": true
   },
   "outputs": [],
   "source": [
    "sizeof_curandState = pycuda.characterize.sizeof('curandState', '#include <curand_kernel.h>')"
   ]
  },
  {
   "cell_type": "code",
   "execution_count": 7,
   "metadata": {
    "collapsed": true
   },
   "outputs": [],
   "source": [
    "rng_states = cuda.mem_alloc(N*sizeof_curandState);  #lot of start states, so the different threads rand number won't correlate"
   ]
  },
  {
   "cell_type": "code",
   "execution_count": 8,
   "metadata": {},
   "outputs": [
    {
     "data": {
      "text/plain": [
       "0.027542591094970703"
      ]
     },
     "execution_count": 8,
     "metadata": {},
     "output_type": "execute_result"
    }
   ],
   "source": [
    "init(cuda.In(np.int64(time.time()*100)), rng_states, grid=(blocks,1),block=(threads,1,1), time_kernel=True)"
   ]
  },
  {
   "cell_type": "markdown",
   "metadata": {},
   "source": [
    "## Create r parameter range"
   ]
  },
  {
   "cell_type": "code",
   "execution_count": 9,
   "metadata": {
    "collapsed": true
   },
   "outputs": [],
   "source": [
    "def create_pars(rmin, rmax, n, alpha, R):\n",
    "    return np.reshape(np.array(list(map(lambda x: [x, alpha, R], np.linspace(rmin,rmax,n))), dtype=np.float32), n*3)"
   ]
  },
  {
   "cell_type": "code",
   "execution_count": 10,
   "metadata": {
    "collapsed": true
   },
   "outputs": [],
   "source": [
    "pars = create_pars(rrange[0], rrange[1], N, alpha, R)"
   ]
  },
  {
   "cell_type": "markdown",
   "metadata": {},
   "source": [
    "## Run MCMC on CUDA"
   ]
  },
  {
   "cell_type": "code",
   "execution_count": 11,
   "metadata": {},
   "outputs": [
    {
     "data": {
      "text/plain": [
       "1.4728550910949707"
      ]
     },
     "execution_count": 11,
     "metadata": {},
     "output_type": "execute_result"
    }
   ],
   "source": [
    "mcmc(rng_states, cuda.In(num_samples), cuda.In(pars), cuda.In(npar), cuda.In(proposal_sd), cuda.Out(res),\n",
    "     grid=(blocks,1),block=(threads,1,1),time_kernel=True)"
   ]
  },
  {
   "cell_type": "markdown",
   "metadata": {},
   "source": [
    "#### 1.76s until 2560 MCMC completed (every MCMC had 1000000 length path)"
   ]
  },
  {
   "cell_type": "markdown",
   "metadata": {},
   "source": [
    "## Calculate the normalization factor of p(x)"
   ]
  },
  {
   "cell_type": "code",
   "execution_count": 12,
   "metadata": {
    "collapsed": true
   },
   "outputs": [],
   "source": [
    "def p(x, alpha, R):\n",
    "    return np.exp(-np.power(np.linalg.norm(x)*R, alpha) )\n",
    "\n",
    "C = integrate.quad(p, -np.inf, np.inf, args=(alpha, R))[0]"
   ]
  },
  {
   "cell_type": "markdown",
   "metadata": {},
   "source": [
    "## Scale the result"
   ]
  },
  {
   "cell_type": "code",
   "execution_count": 13,
   "metadata": {
    "collapsed": true
   },
   "outputs": [],
   "source": [
    "res = C*res/(2*np.pi)"
   ]
  },
  {
   "cell_type": "markdown",
   "metadata": {},
   "source": [
    "## Connecting to R, link dstable R function from stabledist package to python"
   ]
  },
  {
   "cell_type": "code",
   "execution_count": 14,
   "metadata": {
    "collapsed": true
   },
   "outputs": [],
   "source": [
    "r  = robjects.r\n",
    "cf = robjects.FloatVector\n",
    "libPaths=r[\".libPaths\"]\n",
    "libPaths(robjects.StrVector([libPaths()[0], libPaths()[1], \"D:/Documents/R/win-library/3.3\"]))\n",
    "importr(\"stabledist\")\n",
    "levy     = r[\"dstable\"]"
   ]
  },
  {
   "cell_type": "markdown",
   "metadata": {},
   "source": [
    "## Plot the result"
   ]
  },
  {
   "cell_type": "code",
   "execution_count": 15,
   "metadata": {},
   "outputs": [
    {
     "data": {
      "text/plain": [
       "<matplotlib.legend.Legend at 0x2a57f16d2b0>"
      ]
     },
     "execution_count": 15,
     "metadata": {},
     "output_type": "execute_result"
    },
    {
     "data": {
      "image/png": "[encoded data removed]",
      "text/plain": [
       "<matplotlib.figure.Figure at 0x2a57520d630>"
      ]
     },
     "metadata": {},
     "output_type": "display_data"
    }
   ],
   "source": [
    "plt.figure(0,(14,7))\n",
    "plt.yscale(\"log\")\n",
    "plt.xlabel(\"x\", fontsize=18)\n",
    "plt.ylabel(\"P(x)\", fontsize=18)\n",
    "plt.plot(np.linspace(-10, 10, N),res, 'x', label=\"MCMC result\")\n",
    "x2 = np.linspace(-10,10,1000)\n",
    "y2 = np.array(levy(cf(x2), alpha=alpha, gamma=R, beta=0))\n",
    "plt.plot(x2,y2, label=\"Stable distribution from R\")\n",
    "plt.legend(fontsize=18)"
   ]
  },
  {
   "cell_type": "code",
   "execution_count": null,
   "metadata": {
    "collapsed": true
   },
   "outputs": [],
   "source": []
  }
 ],
 "metadata": {
  "kernelspec": {
   "display_name": "Python [default]",
   "language": "python",
   "name": "python3"
  },
  "language_info": {
   "codemirror_mode": {
    "name": "ipython",
    "version": 3
   },
   "file_extension": ".py",
   "mimetype": "text/x-python",
   "name": "python",
   "nbconvert_exporter": "python",
   "pygments_lexer": "ipython3",
   "version": "3.5.3"
  }
 },
 "nbformat": 4,
 "nbformat_minor": 2
}
