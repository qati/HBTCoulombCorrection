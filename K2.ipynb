{
 "cells": [
  {
   "cell_type": "code",
   "execution_count": 1,
   "metadata": {
    "collapsed": true
   },
   "outputs": [],
   "source": [
    "import KGInt as kg\n",
    "import numpy as np\n",
    "import h5py as h5\n",
    "import matplotlib.pyplot as plt\n",
    "from ipyparallel import Client\n",
    "\n",
    "%matplotlib inline"
   ]
  },
  {
   "cell_type": "code",
   "execution_count": 2,
   "metadata": {
    "collapsed": true
   },
   "outputs": [],
   "source": [
    "f = h5.File(\"Levy_new.h5\", \"r\")\n",
    "\n",
    "limits = f[\"limits\"][\"0\"].value\n",
    "alphas = np.linspace(f[\"alphas\"][\"min_alpha\"].value,f[\"alphas\"][\"max_alpha\"].value, f[\"alphas\"][\"length\"].value)\n",
    "dr     = f[\"dr\"][\"0\"].value"
   ]
  },
  {
   "cell_type": "code",
   "execution_count": 3,
   "metadata": {
    "collapsed": true
   },
   "outputs": [],
   "source": [
    "l=kg.Levyd(1., alphas[0], limits[0], limits[1], dr, f[\"Lr\"][\"0\"].value, 1e-8)\n",
    "c = kg.Coulomb2d(l)"
   ]
  },
  {
   "cell_type": "code",
   "execution_count": 4,
   "metadata": {
    "collapsed": true
   },
   "outputs": [],
   "source": [
    "c.set_R(5)"
   ]
  },
  {
   "cell_type": "code",
   "execution_count": 5,
   "metadata": {
    "collapsed": true
   },
   "outputs": [],
   "source": [
    "def integrate(ks, cs):\n",
    "    c = cs[0]\n",
    "    res = []\n",
    "    for k in ks:\n",
    "        res.append(c.integrate(k,1000000))\n",
    "    return res"
   ]
  },
  {
   "cell_type": "code",
   "execution_count": 8,
   "metadata": {},
   "outputs": [],
   "source": [
    "client = Client()\n",
    "dv = client[:]"
   ]
  },
  {
   "cell_type": "code",
   "execution_count": 37,
   "metadata": {
    "collapsed": true
   },
   "outputs": [],
   "source": [
    "N       = 100\n",
    "workers = len(client.ids)\n",
    "\n",
    "if np.ceil(N/workers)!=np.floor(N/workers):\n",
    "    print(\"number of nodes not compatible with the workers\")"
   ]
  },
  {
   "cell_type": "code",
   "execution_count": 38,
   "metadata": {},
   "outputs": [],
   "source": [
    "ks = [i/40 for i in range(1,N+1)]\n",
    "cs = [c]*N"
   ]
  },
  {
   "cell_type": "code",
   "execution_count": 39,
   "metadata": {},
   "outputs": [],
   "source": [
    "data = list(zip(*[iter(list(zip(ks,cs)))]*int(N/workers)))"
   ]
  },
  {
   "cell_type": "code",
   "execution_count": null,
   "metadata": {
    "collapsed": true
   },
   "outputs": [],
   "source": [
    "res = dv.map_async(integrate, data)"
   ]
  }
 ],
 "metadata": {
  "kernelspec": {
   "display_name": "Python [default]",
   "language": "python",
   "name": "python3"
  },
  "language_info": {
   "codemirror_mode": {
    "name": "ipython",
    "version": 3
   },
   "file_extension": ".py",
   "mimetype": "text/x-python",
   "name": "python",
   "nbconvert_exporter": "python",
   "pygments_lexer": "ipython3",
   "version": "3.5.3"
  }
 },
 "nbformat": 4,
 "nbformat_minor": 2
}
