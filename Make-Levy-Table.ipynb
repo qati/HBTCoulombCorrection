{
 "cells": [
  {
   "cell_type": "code",
   "execution_count": 1,
   "metadata": {
    "collapsed": true
   },
   "outputs": [],
   "source": [
    "import numpy as np\n",
    "import scipy as sp\n",
    "import scipy.special\n",
    "from KGInt import integrate, integrate_GPU\n",
    "import h5py as h5\n",
    "import matplotlib.pyplot as plt\n",
    "\n",
    "%matplotlib inline"
   ]
  },
  {
   "cell_type": "markdown",
   "metadata": {},
   "source": [
    "## Table"
   ]
  },
  {
   "cell_type": "markdown",
   "metadata": {},
   "source": [
    "KGInt calculates $\\mathcal{L}(r,\\alpha)$\n",
    "\n",
    "We need: \n",
    "\\begin{equation}\n",
    "\\frac{1}{(2\\pi)^3}\\int d^3 \\boldsymbol {q} e^{i\\boldsymbol {q}\\boldsymbol {r}}e^{-\\frac{1}{2}|\\boldsymbol {q}R|^\\alpha}=\\mathcal{L}(\\boldsymbol{r}, \\alpha, 2^{-\\frac{1}{\\alpha}}R)\n",
    "\\end{equation}\n",
    "\n",
    "\\begin{equation}\n",
    "\\mathcal{L}(\\boldsymbol{r}, \\alpha, R) = \\frac{1}{R^3}\\mathcal{L}\\bigg(\\frac{\\boldsymbol{r}}{R}, \\alpha, 1\\bigg)=\\frac{1}{R^3}\\mathcal{L}\\bigg(\\frac{\\boldsymbol{r}}{R}, \\alpha\\bigg)\n",
    "\\end{equation}"
   ]
  },
  {
   "cell_type": "markdown",
   "metadata": {},
   "source": [
    "## Asymptotics"
   ]
  },
  {
   "cell_type": "code",
   "execution_count": 2,
   "metadata": {
    "collapsed": true
   },
   "outputs": [],
   "source": [
    "def asym_bx(x, alpha, n=10):\n",
    "    s = 0.0\n",
    "    for k in range(1, n+1):\n",
    "        s += (-1)**(k+1)*(sp.special.gamma(alpha*k)/sp.special.gamma(k))*np.sin(0.5*np.pi*alpha*k)*(k*alpha+1)/x**(k*alpha+3)\n",
    "    return s*alpha/(2*np.pi**2)\n",
    "\n",
    "def asym_sx(x, alpha, n=10):\n",
    "    s = 0.0\n",
    "    for k in range(n):\n",
    "        s += (sp.special.gamma((k+3)/alpha)/sp.special.gamma(k+3))*np.sin(0.5*np.pi*(k+3))*(k+2)*(k+1)*x**k\n",
    "    return -s/(2*np.pi**2*alpha)"
   ]
  },
  {
   "cell_type": "markdown",
   "metadata": {},
   "source": [
    "## Creating table"
   ]
  },
  {
   "cell_type": "code",
   "execution_count": 124,
   "metadata": {},
   "outputs": [],
   "source": [
    "def gpu_calc(alpha, rrange, error, error_rng):\n",
    "    gpu_rs         = np.linspace(rrange[0], rrange[1], 512*5, np.double)\n",
    "    gpu_alphas     = np.array([alpha]*len(gpu_rs), np.double)\n",
    "    gpu_errors     = np.array([error]*len(gpu_rs), np.double)\n",
    "    gpu_error_rngs = np.array([error_rng]*len(gpu_rs), np.double)\n",
    "    result_gpu = integrate_GPU(gpu_rs, gpu_alphas, gpu_errors, gpu_error_rngs)\n",
    "    return gpu_rs, result_gpu\n",
    "\n",
    "def cpu_calc(alpha, rrange, error, error_rng, N=32):\n",
    "    cpu_rs         = np.linspace(rrange[0], rrange[1], N, np.double)\n",
    "    cpu_alphas     = np.array([alpha]*len(cpu_rs), np.double)\n",
    "    cpu_errors     = np.array([error]*len(cpu_rs), np.double)\n",
    "    cpu_error_rngs = np.array([error_rng]*len(cpu_rs), np.double)\n",
    "    result_cpu = integrate(cpu_rs, cpu_alphas, cpu_errors, cpu_error_rngs)\n",
    "    return cpu_rs, result_cpu\n",
    "    \n",
    "    \n",
    "def getLr(alpha):\n",
    "    series_n   = 10\n",
    "    error      = 1e-9\n",
    "    error_rng  = 1e-12\n",
    "    \n",
    "    maxr_gpu   = alpha*10.\n",
    "    rs         = np.array([maxr_gpu-0.5*i for i in range(1,8)], np.double)\n",
    "    alphas     = np.array([alpha]*len(rs), np.double)\n",
    "    errors     = np.array([pow(10, -min(maxr_gpu, 7))]*len(rs), np.double)\n",
    "    error_rngs = np.array([1e-10]*len(rs), np.double)\n",
    "    print(\"Find GPU r maximum! Target r max = \", rs)\n",
    "    print(\"GPU GK error=\", errors[0])\n",
    "    result_gpu = integrate_GPU(rs, alphas, errors, error_rngs)\n",
    "    result_cpu = integrate(rs, alphas, errors, error_rngs)\n",
    "  \n",
    "    gcDiff   = abs(result_gpu-result_cpu)[:,0]\n",
    "    i        = np.min((np.arange(len(gcDiff))+1)*np.array(gcDiff<1e-7))\n",
    "    maxr_gpu = rs[i]\n",
    "    \n",
    "    print(\"GPU maximum r = \",maxr_gpu)\n",
    "    \n",
    "    s_big = asym_bx(maxr_gpu, alpha, series_n)\n",
    "    print(\"Asymptotic serie (val=%fe-5) diff at GPU (CPU val=%fe-5, GPU val=%fe-5) max. r = %fe-5\"\n",
    "          %(s_big*1e5, result_cpu[0,0]*1e5, result_gpu[0,0]*1e5,1e5*abs(s_big-result_cpu[0,0])))\n",
    "    \n",
    "    if abs(s_big-result_cpu[0,0])<abs(result_gpu[0,0]-result_cpu[0,0]):\n",
    "        max_r = maxr_gpu\n",
    "    else:\n",
    "        print(\"-->Finding max_r started\")\n",
    "        idx = 0\n",
    "        cpu_rs, result_cpu = cpu_calc(alpha, [maxr_gpu, 4*maxr_gpu], error, error_rng, N=8)\n",
    "        for i in range(len(cpu_rs)):\n",
    "            s_big = asym_bx(cpu_rs[i], alpha, series_n)\n",
    "            if abs(s_big-result_cpu[i,0])<1e-8:\n",
    "                max_r = cpu_rs[i]\n",
    "                idx = i\n",
    "        if not max_r:\n",
    "            print(\"Fatal error! max_r not found in [%f, %f] range!\"%(maxr_gpu, 4*maxr_gpu))\n",
    "            return -1\n",
    "        s_big = asym_bx(max_r, alpha, series_n)\n",
    "        print(\"Asymptotic serie (val=%fe-5) relative diff at CPU (val=%fe-5) max. r = %fe-8\"\n",
    "          %(s_big*1e5, result_cpu[idx,0]*1e5,1e8*abs(s_big-result_cpu[idx,0])))\n",
    "        cpu_rs, result_cpu = cpu_calc(alpha, [maxr_gpu, max_r], error, error_rng, 64)\n",
    "        print(\"---:END\")\n",
    "    \n",
    "    gpu_rs, result_gpu = gpu_calc(alpha, [1e-6, maxr_gpu], errors[0], error_rngs[0])\n",
    "        \n",
    "    s_small = asym_sx(gpu_rs[:256], alpha, series_n)\n",
    "    min_idx = 0\n",
    "    i = 0\n",
    "    while min_idx==0:\n",
    "        v       = (abs(result_gpu[:256,0]-s_small)/(result_gpu[:256,0]))<error*i\n",
    "        min_idx = np.max((np.arange(len(v))+1)*v)\n",
    "        i += 1\n",
    "    min_r = gpu_rs[min_idx+1]\n",
    "    print(\"Minimum r = %f, error=%fe-5 (asymptotic serie under this)\"% (min_r, error*i*100000))\n",
    "    \n",
    "    mask = gpu_rs>=min_r\n",
    "    \n",
    "    result_gpu = result_gpu[mask]\n",
    "    gpu_rs     = gpu_rs[mask]\n",
    "    \n",
    "    return min_r, max_r, gpu_rs, result_gpu, cpu_rs, result_cpu\n",
    "\n",
    "def plot(min_r, max_r, grs, gr, crs, cr, alpha):\n",
    "    plt.figure(0, (14,7))\n",
    "    plt.xscale(\"log\")\n",
    "    plt.yscale(\"log\")\n",
    "    plt.xlabel(\"r\", fontsize=18)\n",
    "    plt.ylabel(r\"$\\mathcal{L}(r, \\alpha=%.2f)$\"%alpha, fontsize=18)\n",
    "    asym = np.linspace(min_r/5, min_r, 100)\n",
    "    plt.plot(asym, asym_sx(asym,alpha), label=\"Asymptotics\")\n",
    "    plt.plot(grs, gr[:,0],'.', label=\"GPU result\")\n",
    "    plt.plot(crs, cr[:,0],'.', label=\"CPU result\")\n",
    "    asym = np.linspace(max_r, 5*max_r, 100)\n",
    "    plt.plot(asym, asym_bx(asym, alpha), label=\"Asymptotics\")\n",
    "    plt.legend(fontsize=16)"
   ]
  },
  {
   "cell_type": "code",
   "execution_count": 122,
   "metadata": {},
   "outputs": [
    {
     "name": "stdout",
     "output_type": "stream",
     "text": [
      "Find GPU r maximum! Target r max =  [ 5.5  5.   4.5  4.   3.5  3.   2.5]\n",
      "GPU GK error= 1e-06\n",
      "Elapsed time: 1106.0 ms\n",
      "Elapsed time: 28.0 ms\n",
      "GPU maximum r =  5.0\n",
      "Asymptotic serie (val=11.768801e-5) diff at GPU (CPU val=8.560924e-5, GPU val=8.560305e-5) max. r = 3.207877e-5\n",
      "-->Finding max_r started\n",
      "Elapsed time: 1974.0 ms\n",
      "Asymptotic serie (val=0.102132e-5) relative diff at CPU (val=0.102132e-5) max. r = 0.000060e-8\n",
      "Elapsed time: 14369.0 ms\n",
      "---:END\n",
      "Elapsed time: 1262.0 ms\n",
      "Minimum r = 0.003909, error=0.093300e-5 (asymptotic serie under this)\n"
     ]
    }
   ],
   "source": [
    "alpha = 0.6\n",
    "min_r, max_r, grs, gr, crs, cr = getLr(alpha)"
   ]
  },
  {
   "cell_type": "code",
   "execution_count": 125,
   "metadata": {},
   "outputs": [
    {
     "data": {
      "image/png": "[encoded data removed]",
      "text/plain": [
       "<matplotlib.figure.Figure at 0x26d8c1c3358>"
      ]
     },
     "metadata": {},
     "output_type": "display_data"
    }
   ],
   "source": [
    "plot(min_r, max_r, grs, gr, crs, cr, alpha)"
   ]
  },
  {
   "cell_type": "code",
   "execution_count": null,
   "metadata": {
    "collapsed": true
   },
   "outputs": [],
   "source": []
  }
 ],
 "metadata": {
  "kernelspec": {
   "display_name": "Python [default]",
   "language": "python",
   "name": "python3"
  },
  "language_info": {
   "codemirror_mode": {
    "name": "ipython",
    "version": 3
   },
   "file_extension": ".py",
   "mimetype": "text/x-python",
   "name": "python",
   "nbconvert_exporter": "python",
   "pygments_lexer": "ipython3",
   "version": "3.5.3"
  }
 },
 "nbformat": 4,
 "nbformat_minor": 2
}
