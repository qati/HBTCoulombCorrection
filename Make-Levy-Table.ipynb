{
 "cells": [
  {
   "cell_type": "code",
   "execution_count": 1,
   "metadata": {
    "collapsed": true
   },
   "outputs": [],
   "source": [
    "import numpy as np\n",
    "import scipy as sp\n",
    "import scipy.special\n",
    "from KGInt import integrate, integrate_GPU, setGPU\n",
    "import h5py as h5\n",
    "import matplotlib.pyplot as plt\n",
    "from IPython.display import clear_output\n",
    "\n",
    "%matplotlib inline"
   ]
  },
  {
   "cell_type": "markdown",
   "metadata": {},
   "source": [
    "## Table"
   ]
  },
  {
   "cell_type": "markdown",
   "metadata": {},
   "source": [
    "KGInt calculates $\\mathcal{L}(r,\\alpha)$\n",
    "\n",
    "We need: \n",
    "\\begin{equation}\n",
    "\\frac{1}{(2\\pi)^3}\\int d^3 \\boldsymbol {q} e^{i\\boldsymbol {q}\\boldsymbol {r}}e^{-\\frac{1}{2}|\\boldsymbol {q}R|^\\alpha}=\\mathcal{L}(\\boldsymbol{r}, \\alpha, 2^{-\\frac{1}{\\alpha}}R)\n",
    "\\end{equation}\n",
    "\n",
    "\\begin{equation}\n",
    "\\mathcal{L}(\\boldsymbol{r}, \\alpha, R) = \\frac{1}{R^3}\\mathcal{L}\\bigg(\\frac{\\boldsymbol{r}}{R}, \\alpha, 1\\bigg)=\\frac{1}{R^3}\\mathcal{L}\\bigg(\\frac{\\boldsymbol{r}}{R}, \\alpha\\bigg)\n",
    "\\end{equation}"
   ]
  },
  {
   "cell_type": "markdown",
   "metadata": {},
   "source": [
    "## Asymptotics"
   ]
  },
  {
   "cell_type": "code",
   "execution_count": 2,
   "metadata": {
    "collapsed": true
   },
   "outputs": [],
   "source": [
    "def asym_bx(x, alpha, n=10):\n",
    "    s = 0.0\n",
    "    for k in range(1, n+1):\n",
    "        s += (-1)**(k+1)*(sp.special.gamma(alpha*k)/sp.special.gamma(k))*np.sin(0.5*np.pi*alpha*k)*(k*alpha+1)/x**(k*alpha+3)\n",
    "    return s*alpha/(2*np.pi**2)\n",
    "\n",
    "def asym_sx(x, alpha, n=10):\n",
    "    s = 0.0\n",
    "    for k in range(n):\n",
    "        s += (sp.special.gamma((k+3)/alpha)/sp.special.gamma(k+3))*np.sin(0.5*np.pi*(k+3))*(k+2)*(k+1)*x**k\n",
    "    return -s/(2*np.pi**2*alpha)"
   ]
  },
  {
   "cell_type": "markdown",
   "metadata": {},
   "source": [
    "## Creating table"
   ]
  },
  {
   "cell_type": "code",
   "execution_count": 3,
   "metadata": {
    "collapsed": true
   },
   "outputs": [],
   "source": [
    "def gpu_calc(alpha, rrange, error, error_rng, blocks=5, threads=512, log=False):\n",
    "    if log:\n",
    "        gpu_rs     = np.logspace(rrange[0], rrange[1], blocks*threads, np.double)\n",
    "    else:\n",
    "        n = 0\n",
    "        small = np.array([rrange[0]])\n",
    "        if rrange[0]<0.5:\n",
    "            n = int(-np.floor(np.log10(rrange[0]))*32)\n",
    "            small = np.logspace(np.log10(rrange[0]), -0.3,n)\n",
    "        gpu_rs     = np.linspace(rrange[0], rrange[1], blocks*threads-n, np.double)\n",
    "        gpu_rs     = np.concatenate((small,gpu_rs))\n",
    "    gpu_alphas     = np.array([alpha]*len(gpu_rs), np.double)\n",
    "    gpu_errors     = np.array([error]*len(gpu_rs), np.double)\n",
    "    gpu_error_rngs = np.array([error_rng]*len(gpu_rs), np.double)\n",
    "    result_gpu = integrate_GPU(blocks, threads, gpu_rs, gpu_alphas, gpu_errors, gpu_error_rngs)\n",
    "    return gpu_rs, result_gpu\n",
    "\n",
    "def cpu_calc(alpha, rrange, error, error_rng, N=32):\n",
    "    cpu_rs         = np.linspace(rrange[0], rrange[1], N, np.double)\n",
    "    cpu_alphas     = np.array([alpha]*len(cpu_rs), np.double)\n",
    "    cpu_errors     = np.array([error]*len(cpu_rs), np.double)\n",
    "    cpu_error_rngs = np.array([error_rng]*len(cpu_rs), np.double)\n",
    "    result_cpu = integrate(cpu_rs, cpu_alphas, cpu_errors, cpu_error_rngs)\n",
    "    return cpu_rs, result_cpu\n",
    "    \n",
    "    \n",
    "def getLr(alpha, shift_maxr_gpu=0, min_gpu_error_exp=7):\n",
    "    series_n   = 10\n",
    "    error      = 1e-8\n",
    "    error_rng  = 1e-12\n",
    "    cpu_error  = 1e-10\n",
    "    cpu_max_division = 128\n",
    "    gpu_blocks = 5\n",
    "    gpu_threads = 512\n",
    "    \n",
    "    if alpha<0.8:\n",
    "        shift_maxr_gpu = 0\n",
    "    \n",
    "    maxr_gpu   = alpha*10.+shift_maxr_gpu\n",
    "    rs         = np.array([maxr_gpu-0.5*i for i in range(1,12)], np.double)\n",
    "    alphas     = np.array([alpha]*len(rs), np.double)\n",
    "    errors     = np.array([pow(10, -min(maxr_gpu, min_gpu_error_exp))]*len(rs), np.double)\n",
    "    error_rngs = np.array([error_rng]*len(rs), np.double)\n",
    "    print(\"*Find GPU r maximum! Target r max = \", rs, flush=True)\n",
    "    print(\"  GPU integral error set to \", errors[0],flush=True)\n",
    "    result_gpu = integrate_GPU(1, len(rs), rs, alphas, errors, error_rngs)\n",
    "    print(\"  CPU integral error set to \", cpu_error,flush=True)\n",
    "    result_cpu = integrate(rs, alphas, errors*cpu_error/errors[0], error_rngs/1e2)\n",
    "    \n",
    "\n",
    "    gcDiff   = abs(result_gpu-result_cpu)[:,0]\n",
    "    i        = np.min((np.arange(len(gcDiff))+1)*np.array(gcDiff<error))-1\n",
    "    maxr_gpu = rs[i]\n",
    "    \n",
    "    print(\"  GPU maximum r = %f, CPU value=%fe-5, GPU value=%fe-5, DIFF=%fe-8\"\n",
    "          %(maxr_gpu, result_cpu[i, 0]*1e5, result_gpu[i, 0]*1e5, gcDiff[i]*1e8),flush=True)\n",
    "    \n",
    "    s_big = asym_bx(maxr_gpu, alpha, series_n)\n",
    "    print(\"*Asymptotic serie (val=%fe-5) diff at max_gpu_r (CPU val=%fe-5, GPU val=%fe-5): %fe-8\"\n",
    "          %(s_big*1e5, result_cpu[i,0]*1e5, result_gpu[i,0]*1e5,1e8*abs(s_big-result_gpu[i,0])),flush=True)\n",
    "    \n",
    "    if gcDiff[i]>error:\n",
    "        if gcDiff[i]>1e-6:\n",
    "            print(\"FATAL ERROR! abs(GPU val - CPU val)=%fe-6 >1e-6 at maxgpu_r\"%(gcDiff[i]*1e6))\n",
    "            return -1\n",
    "        expp = np.power(10,np.floor(np.log10(gcDiff[i])))\n",
    "        print(\"*WARNING! abs(GPU val - CPU val)=%fe-8 >1e-8 at maxgpu_r\"%(gcDiff[i]*1e8))\n",
    "        error = 2*np.ceil(gcDiff[i]/expp)\n",
    "        error *= expp\n",
    "        print(\"  **SET OVERALL error to \",error)\n",
    "    \n",
    "    if abs(s_big-result_gpu[i,0])<=error:\n",
    "        max_r = maxr_gpu\n",
    "        print(\"  Asymptotic result equal with GPU result at max_gpu_r (%f) with %fe1-8 tolerance!\"%(max_r, error*1e8))\n",
    "        print(\"  max_r set to max_gpu_r = \", max_r)\n",
    "        cpu_rs = []\n",
    "        result_cpu = []\n",
    "    else:\n",
    "        print(\"*Looking for max_r started\",flush=True)\n",
    "        idx = 0\n",
    "        div = 8\n",
    "        maxrng = maxr_gpu*4\n",
    "        if maxr_gpu<2.:\n",
    "            maxrng = maxr_gpu*10\n",
    "            div = 16\n",
    "        if maxr_gpu<1:\n",
    "            maxrng = 20\n",
    "            div = 32\n",
    "        print(\"  Search range set to [%f, %f]. CPU calculation started!\"%(maxr_gpu, maxrng))\n",
    "        cpu_rs, result_cpu = cpu_calc(alpha, [maxr_gpu, maxrng], error, error_rng, N=div)\n",
    "        max_r = -1\n",
    "        for i in range(len(cpu_rs)):\n",
    "            s_big = asym_bx(cpu_rs[i], alpha, series_n)\n",
    "            if abs(s_big-result_cpu[i,0])<=error:\n",
    "                max_r = cpu_rs[i]\n",
    "                idx = i\n",
    "                break\n",
    "        if max_r<0:\n",
    "            print(\"Fatal error! max_r not found in [%f, %f] range!\"%(maxr_gpu, maxrng),flush=True)\n",
    "            return -1\n",
    "        s_big = asym_bx(max_r, alpha, series_n)\n",
    "        print(\"  Asymptotic serie (val=%fe-5) diff at %f (val=%fe-5): %fe-8\"\n",
    "          %(s_big*1e5, max_r, result_cpu[idx,0]*1e5,1e8*abs(s_big-result_cpu[idx,0])),flush=True)\n",
    "        print(\"  max_r set to \", max_r)\n",
    "        print(\"  Start CPU integrations in [%f, %f] r range, devided to %d part!\"%(maxr_gpu, max_r, cpu_max_division))\n",
    "        cpu_rs, result_cpu = cpu_calc(alpha, [maxr_gpu, max_r], error, error_rng, cpu_max_division)\n",
    "    \n",
    "    print(\"*Start GPU integrations in [%f, %f] r range, devided to %d part!\"%(1e-6, maxr_gpu, gpu_blocks*gpu_threads))\n",
    "    gpu_rs, result_gpu = gpu_calc(alpha, [1e-4, maxr_gpu], errors[0], error_rngs[0], gpu_blocks, gpu_threads)\n",
    "    \n",
    "    s_small = asym_sx(gpu_rs[:256], alpha, series_n)\n",
    "    v = abs(result_gpu[:256,0]-s_small)<error\n",
    "    min_idx = np.max((np.arange(len(v))+1)*v)-1\n",
    "    print(\"*Asymptotic serie (val=%fe-2) diff at min_gpu_r (%fe-4) (GPU val=%fe-2): %fe-8\"\n",
    "          %(s_small[0]*1e2, gpu_rs[0]*1e4, result_gpu[0,0]*1e2,\n",
    "            1e8*abs(s_small[0]-result_gpu[0,0])),flush=True)\n",
    "  \n",
    "    if min_idx>-1:\n",
    "        min_r = gpu_rs[min_idx]\n",
    "        print(\"  Asymptotic result equal with GPU result at min_gpu_r (%fe-4) with %fe1-8 tolerance!\"%(min_r*1e4, error*1e8))\n",
    "        print(\"  min_r set to min_gpu_r = \", min_r)\n",
    "    else:\n",
    "        print(\"*Looking for min_r started\",flush=True)\n",
    "        gpu_rs_m, result_gpu_m = gpu_calc(alpha, [-10, -2], errors[0], error_rngs[0], gpu_blocks, gpu_threads,log=True)\n",
    "        s_small = asym_sx(gpu_rs_m, alpha, series_n)\n",
    "        v = abs(result_gpu_m[:,0]-s_small)<error\n",
    "        min_idx = np.max((np.arange(len(v))+1)*v)-1\n",
    "        if min_idx<0:\n",
    "            print(\" FATAL ERROR! min_idx<0\")\n",
    "            return -1\n",
    "        print(\"  Asymptotic serie (val=%fe-2) diff at %fe-5 (GPU val=%fe-2): %fe-8\"\n",
    "          %(s_small[min_idx]*1e2, gpu_rs_m[min_idx]*1e5, result_gpu_m[min_idx,0]*1e2,\n",
    "            1e8*abs(s_small[min_idx]-result_gpu_m[min_idx,0])),flush=True)\n",
    "        min_r = gpu_rs_m[min_idx]\n",
    "        print(\"  min_r set to \", min_r)\n",
    "        gpu_rs = np.concatenate((gpu_rs_m, gpu_rs))\n",
    "        result_gpu = np.concatenate((result_gpu_m, result_gpu))\n",
    "    \n",
    "    mask       = gpu_rs>=min_r\n",
    "    result_gpu = result_gpu[mask,0]\n",
    "    gpu_rs     = gpu_rs[mask]\n",
    "    if len(result_cpu)>0:\n",
    "        mask       = cpu_rs>=maxr_gpu\n",
    "        result_cpu = result_cpu[mask, 0]\n",
    "        cpu_rs     = cpu_rs[mask]\n",
    "    \n",
    "    return min_r, max_r, gpu_rs, result_gpu, cpu_rs, result_cpu\n",
    "\n",
    "def plot(min_r, max_r, grs, gr, crs, cr, alpha):\n",
    "    plt.figure(0, (14,7))\n",
    "    plt.xscale(\"log\")\n",
    "    plt.yscale(\"log\")\n",
    "    plt.xlabel(\"r\", fontsize=18)\n",
    "    plt.ylabel(r\"$\\mathcal{L}(r, \\alpha=%.2f)$\"%alpha, fontsize=18)\n",
    "    asym = np.linspace(min_r/5, min_r, 100)\n",
    "    plt.plot(asym, asym_sx(asym,alpha), label=\"Asymptotics\")\n",
    "    plt.plot(grs, gr,'.', label=\"GPU result\")\n",
    "    plt.plot(crs, cr,'.', label=\"CPU result\")\n",
    "    asym = np.linspace(max_r, 5*max_r, 100)\n",
    "    plt.plot(asym, asym_bx(asym, alpha), label=\"Asymptotics\")\n",
    "    plt.legend(fontsize=16)"
   ]
  },
  {
   "cell_type": "code",
   "execution_count": 13,
   "metadata": {},
   "outputs": [
    {
     "name": "stdout",
     "output_type": "stream",
     "text": [
      "*Find GPU r maximum! Target r max =  [ 4.5  4.   3.5  3.   2.5  2.   1.5  1.   0.5  0.  -0.5]\n",
      "  GPU integral error set to  1e-05\n",
      "->GPU: elapsed time = 835.0 ms\n",
      "  CPU integral error set to  1e-10\n",
      "->CPU: elapsed time = 9340.0 ms\n",
      "  GPU maximum r = -0.500000, CPU value=9756.451166e-5, GPU value=9756.468027e-5, DIFF=16.861071e-8\n",
      "*Asymptotic serie (val=nane-5) diff at max_gpu_r (CPU val=9756.451166e-5, GPU val=9756.468027e-5): nane-8\n",
      "*WARNING! abs(GPU val - CPU val)=16.861071e-8 >1e-8 at maxgpu_r\n",
      "  **SET OVERALL error to  4e-07\n",
      "*Looking for max_r started\n"
     ]
    },
    {
     "name": "stderr",
     "output_type": "stream",
     "text": [
      "C:\\Users\\qati\\Anaconda3\\lib\\site-packages\\ipykernel\\__main__.py:52: RuntimeWarning: invalid value encountered in less\n",
      "C:\\Users\\qati\\Anaconda3\\lib\\site-packages\\ipykernel\\__main__.py:4: RuntimeWarning: invalid value encountered in double_scalars\n"
     ]
    },
    {
     "name": "stdout",
     "output_type": "stream",
     "text": [
      "  Search range set to [-0.500000, 20.000000]. CPU calculation started!\n",
      "->CPU: elapsed time = 913.0 ms\n",
      "  Asymptotic serie (val=460.960117e-5) diff at 1.483871 (val=460.965283e-5): 5.166088e-8\n",
      "  max_r set to  1.48387096774\n",
      "  Start CPU integrations in [-0.500000, 1.483871] r range, devided to 128 part!\n",
      "->CPU: elapsed time = 831.0 ms\n",
      "*Start GPU integrations in [0.000001, -0.500000] r range, devided to 2560 part!\n",
      "->GPU: elapsed time = 333.0 ms\n",
      "*Asymptotic serie (val=1215.835820e-2) diff at min_gpu_r (1.000000e-4) (GPU val=1215.848034e-2): 12213.572426e-8\n",
      "*Looking for min_r started\n",
      "->GPU: elapsed time = 56.0 ms\n",
      "  Asymptotic serie (val=1215.853973e-2) diff at 1.119044e-5 (GPU val=1215.853967e-2): 6.505962e-8\n",
      "  min_r set to  1.11904411062e-05\n",
      "Wall time: 12.4 s\n"
     ]
    }
   ],
   "source": [
    "%%time\n",
    "alpha = 0.5\n",
    "min_r, max_r, grs, gr, crs, cr = getLr(alpha, shift_maxr_gpu=(4+40*(alpha-0.8)))"
   ]
  },
  {
   "cell_type": "code",
   "execution_count": 14,
   "metadata": {},
   "outputs": [
    {
     "data": {
      "image/png": "[encoded data removed]",
      "text/plain": [
       "<matplotlib.figure.Figure at 0x25f133e4f60>"
      ]
     },
     "metadata": {},
     "output_type": "display_data"
    }
   ],
   "source": [
    "plot(min_r, max_r, grs, gr, crs, cr, alpha)"
   ]
  },
  {
   "cell_type": "code",
   "execution_count": 11,
   "metadata": {},
   "outputs": [
    {
     "name": "stdout",
     "output_type": "stream",
     "text": [
      "------------------Calculating for alpha=0.578947 ------------------\n",
      "*Find GPU r maximum! Target r max =  [ 5.28947368  4.78947368  4.28947368  3.78947368  3.28947368  2.78947368\n",
      "  2.28947368  1.78947368  1.28947368  0.78947368  0.28947368]\n",
      "  GPU integral error set to  1.62377673919e-06\n",
      "->GPU: elapsed time = 1004.0 ms\n",
      "  CPU integral error set to  1e-10\n",
      "->CPU: elapsed time = 5511.0 ms\n",
      "  GPU maximum r = 0.289474, CPU value=33655.802028e-5, GPU value=33655.801736e-5, DIFF=0.291568e-8\n"
     ]
    },
    {
     "ename": "KeyboardInterrupt",
     "evalue": "",
     "output_type": "error",
     "traceback": [
      "\u001b[1;31m---------------------------------------------------------------------------\u001b[0m",
      "\u001b[1;31mKeyboardInterrupt\u001b[0m                         Traceback (most recent call last)",
      "\u001b[1;32m<ipython-input-11-c6a83ba8ad68>\u001b[0m in \u001b[0;36m<module>\u001b[1;34m()\u001b[0m\n\u001b[0;32m      6\u001b[0m     \u001b[0mclear_output\u001b[0m\u001b[1;33m(\u001b[0m\u001b[1;33m)\u001b[0m\u001b[1;33m\u001b[0m\u001b[0m\n\u001b[0;32m      7\u001b[0m     \u001b[0mprint\u001b[0m\u001b[1;33m(\u001b[0m\u001b[1;34m\"------------------Calculating for alpha=%f ------------------\"\u001b[0m\u001b[1;33m%\u001b[0m\u001b[0malpha\u001b[0m\u001b[1;33m)\u001b[0m\u001b[1;33m\u001b[0m\u001b[0m\n\u001b[1;32m----> 8\u001b[1;33m     \u001b[0mmin_r\u001b[0m\u001b[1;33m,\u001b[0m \u001b[0mmax_r\u001b[0m\u001b[1;33m,\u001b[0m \u001b[0mgrs\u001b[0m\u001b[1;33m,\u001b[0m \u001b[0mgr\u001b[0m\u001b[1;33m,\u001b[0m \u001b[0mcrs\u001b[0m\u001b[1;33m,\u001b[0m \u001b[0mcr\u001b[0m \u001b[1;33m=\u001b[0m \u001b[0mgetLr\u001b[0m\u001b[1;33m(\u001b[0m\u001b[0malpha\u001b[0m\u001b[1;33m,\u001b[0m \u001b[0mshift_maxr_gpu\u001b[0m\u001b[1;33m=\u001b[0m\u001b[1;33m(\u001b[0m\u001b[1;36m3\u001b[0m\u001b[1;33m+\u001b[0m\u001b[1;36m40\u001b[0m\u001b[1;33m*\u001b[0m\u001b[1;33m(\u001b[0m\u001b[0malpha\u001b[0m\u001b[1;33m-\u001b[0m\u001b[1;36m0.8\u001b[0m\u001b[1;33m)\u001b[0m\u001b[1;33m)\u001b[0m\u001b[1;33m)\u001b[0m\u001b[1;33m\u001b[0m\u001b[0m\n\u001b[0m\u001b[0;32m      9\u001b[0m     \u001b[1;32mif\u001b[0m \u001b[0mlen\u001b[0m\u001b[1;33m(\u001b[0m\u001b[0mcrs\u001b[0m\u001b[1;33m)\u001b[0m\u001b[1;33m>\u001b[0m\u001b[1;36m0\u001b[0m\u001b[1;33m:\u001b[0m\u001b[1;33m\u001b[0m\u001b[0m\n\u001b[0;32m     10\u001b[0m         \u001b[0mrs\u001b[0m  \u001b[1;33m=\u001b[0m \u001b[0mnp\u001b[0m\u001b[1;33m.\u001b[0m\u001b[0mconcatenate\u001b[0m\u001b[1;33m(\u001b[0m\u001b[1;33m(\u001b[0m\u001b[0mgrs\u001b[0m\u001b[1;33m,\u001b[0m \u001b[0mcrs\u001b[0m\u001b[1;33m)\u001b[0m\u001b[1;33m)\u001b[0m\u001b[1;33m\u001b[0m\u001b[0m\n",
      "\u001b[1;32m<ipython-input-3-c77d68f54100>\u001b[0m in \u001b[0;36mgetLr\u001b[1;34m(alpha, shift_maxr_gpu, min_gpu_error_exp)\u001b[0m\n\u001b[0;32m     54\u001b[0m \u001b[1;33m\u001b[0m\u001b[0m\n\u001b[0;32m     55\u001b[0m     print(\"  GPU maximum r = %f, CPU value=%fe-5, GPU value=%fe-5, DIFF=%fe-8\"\n\u001b[1;32m---> 56\u001b[1;33m           %(maxr_gpu, result_cpu[i, 0]*1e5, result_gpu[i, 0]*1e5, gcDiff[i]*1e8),flush=True)\n\u001b[0m\u001b[0;32m     57\u001b[0m \u001b[1;33m\u001b[0m\u001b[0m\n\u001b[0;32m     58\u001b[0m     \u001b[0ms_big\u001b[0m \u001b[1;33m=\u001b[0m \u001b[0masym_bx\u001b[0m\u001b[1;33m(\u001b[0m\u001b[0mmaxr_gpu\u001b[0m\u001b[1;33m,\u001b[0m \u001b[0malpha\u001b[0m\u001b[1;33m,\u001b[0m \u001b[0mseries_n\u001b[0m\u001b[1;33m)\u001b[0m\u001b[1;33m\u001b[0m\u001b[0m\n",
      "\u001b[1;32mC:\\Users\\qati\\Anaconda3\\lib\\site-packages\\ipykernel\\iostream.py\u001b[0m in \u001b[0;36mflush\u001b[1;34m(self)\u001b[0m\n\u001b[0;32m    319\u001b[0m             \u001b[0mevt\u001b[0m \u001b[1;33m=\u001b[0m \u001b[0mthreading\u001b[0m\u001b[1;33m.\u001b[0m\u001b[0mEvent\u001b[0m\u001b[1;33m(\u001b[0m\u001b[1;33m)\u001b[0m\u001b[1;33m\u001b[0m\u001b[0m\n\u001b[0;32m    320\u001b[0m             \u001b[0mself\u001b[0m\u001b[1;33m.\u001b[0m\u001b[0mpub_thread\u001b[0m\u001b[1;33m.\u001b[0m\u001b[0mschedule\u001b[0m\u001b[1;33m(\u001b[0m\u001b[0mevt\u001b[0m\u001b[1;33m.\u001b[0m\u001b[0mset\u001b[0m\u001b[1;33m)\u001b[0m\u001b[1;33m\u001b[0m\u001b[0m\n\u001b[1;32m--> 321\u001b[1;33m             \u001b[0mevt\u001b[0m\u001b[1;33m.\u001b[0m\u001b[0mwait\u001b[0m\u001b[1;33m(\u001b[0m\u001b[1;33m)\u001b[0m\u001b[1;33m\u001b[0m\u001b[0m\n\u001b[0m\u001b[0;32m    322\u001b[0m         \u001b[1;32melse\u001b[0m\u001b[1;33m:\u001b[0m\u001b[1;33m\u001b[0m\u001b[0m\n\u001b[0;32m    323\u001b[0m             \u001b[0mself\u001b[0m\u001b[1;33m.\u001b[0m\u001b[0m_flush\u001b[0m\u001b[1;33m(\u001b[0m\u001b[1;33m)\u001b[0m\u001b[1;33m\u001b[0m\u001b[0m\n",
      "\u001b[1;32mC:\\Users\\qati\\Anaconda3\\lib\\threading.py\u001b[0m in \u001b[0;36mwait\u001b[1;34m(self, timeout)\u001b[0m\n\u001b[0;32m    547\u001b[0m             \u001b[0msignaled\u001b[0m \u001b[1;33m=\u001b[0m \u001b[0mself\u001b[0m\u001b[1;33m.\u001b[0m\u001b[0m_flag\u001b[0m\u001b[1;33m\u001b[0m\u001b[0m\n\u001b[0;32m    548\u001b[0m             \u001b[1;32mif\u001b[0m \u001b[1;32mnot\u001b[0m \u001b[0msignaled\u001b[0m\u001b[1;33m:\u001b[0m\u001b[1;33m\u001b[0m\u001b[0m\n\u001b[1;32m--> 549\u001b[1;33m                 \u001b[0msignaled\u001b[0m \u001b[1;33m=\u001b[0m \u001b[0mself\u001b[0m\u001b[1;33m.\u001b[0m\u001b[0m_cond\u001b[0m\u001b[1;33m.\u001b[0m\u001b[0mwait\u001b[0m\u001b[1;33m(\u001b[0m\u001b[0mtimeout\u001b[0m\u001b[1;33m)\u001b[0m\u001b[1;33m\u001b[0m\u001b[0m\n\u001b[0m\u001b[0;32m    550\u001b[0m             \u001b[1;32mreturn\u001b[0m \u001b[0msignaled\u001b[0m\u001b[1;33m\u001b[0m\u001b[0m\n\u001b[0;32m    551\u001b[0m \u001b[1;33m\u001b[0m\u001b[0m\n",
      "\u001b[1;32mC:\\Users\\qati\\Anaconda3\\lib\\threading.py\u001b[0m in \u001b[0;36mwait\u001b[1;34m(self, timeout)\u001b[0m\n\u001b[0;32m    291\u001b[0m         \u001b[1;32mtry\u001b[0m\u001b[1;33m:\u001b[0m    \u001b[1;31m# restore state no matter what (e.g., KeyboardInterrupt)\u001b[0m\u001b[1;33m\u001b[0m\u001b[0m\n\u001b[0;32m    292\u001b[0m             \u001b[1;32mif\u001b[0m \u001b[0mtimeout\u001b[0m \u001b[1;32mis\u001b[0m \u001b[1;32mNone\u001b[0m\u001b[1;33m:\u001b[0m\u001b[1;33m\u001b[0m\u001b[0m\n\u001b[1;32m--> 293\u001b[1;33m                 \u001b[0mwaiter\u001b[0m\u001b[1;33m.\u001b[0m\u001b[0macquire\u001b[0m\u001b[1;33m(\u001b[0m\u001b[1;33m)\u001b[0m\u001b[1;33m\u001b[0m\u001b[0m\n\u001b[0m\u001b[0;32m    294\u001b[0m                 \u001b[0mgotit\u001b[0m \u001b[1;33m=\u001b[0m \u001b[1;32mTrue\u001b[0m\u001b[1;33m\u001b[0m\u001b[0m\n\u001b[0;32m    295\u001b[0m             \u001b[1;32melse\u001b[0m\u001b[1;33m:\u001b[0m\u001b[1;33m\u001b[0m\u001b[0m\n",
      "\u001b[1;31mKeyboardInterrupt\u001b[0m: "
     ]
    }
   ],
   "source": [
    "alphas = np.linspace(0.5, 2, 20)\n",
    "limits = []\n",
    "rvals  = []\n",
    "Lr     = []\n",
    "for alpha in alphas:\n",
    "    clear_output()\n",
    "    print(\"------------------Calculating for alpha=%f ------------------\"%alpha)\n",
    "    min_r, max_r, grs, gr, crs, cr = getLr(alpha, shift_maxr_gpu=(3+40*(alpha-0.8)))\n",
    "    if len(crs)>0:\n",
    "        rs  = np.concatenate((grs, crs))\n",
    "        vls = np.concatenate((gr, cr))\n",
    "    else:\n",
    "        rs  = grs\n",
    "        vls = gr\n",
    "    limits.append([min_r, max_r])\n",
    "    rvals.append(rs)\n",
    "    Lr.append(vls)"
   ]
  },
  {
   "cell_type": "code",
   "execution_count": null,
   "metadata": {
    "collapsed": true
   },
   "outputs": [],
   "source": []
  }
 ],
 "metadata": {
  "kernelspec": {
   "display_name": "Python [default]",
   "language": "python",
   "name": "python3"
  },
  "language_info": {
   "codemirror_mode": {
    "name": "ipython",
    "version": 3
   },
   "file_extension": ".py",
   "mimetype": "text/x-python",
   "name": "python",
   "nbconvert_exporter": "python",
   "pygments_lexer": "ipython3",
   "version": "3.5.3"
  }
 },
 "nbformat": 4,
 "nbformat_minor": 2
}
