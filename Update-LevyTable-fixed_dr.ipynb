{
 "cells": [
  {
   "cell_type": "code",
   "execution_count": 305,
   "metadata": {
    "collapsed": false
   },
   "outputs": [],
   "source": [
    "import numpy as np\n",
    "import KGInt as kg\n",
    "import h5py as h5\n",
    "import matplotlib.pyplot as plt\n",
    "from IPython.display import clear_output\n",
    "from functools import reduce\n",
    "from operator import concat\n",
    "from ipyparallel import Client\n",
    "\n",
    "%matplotlib inline"
   ]
  },
  {
   "cell_type": "code",
   "execution_count": 5,
   "metadata": {
    "collapsed": true
   },
   "outputs": [],
   "source": [
    "f = h5.File(\"Levy.h5\", \"r\")"
   ]
  },
  {
   "cell_type": "code",
   "execution_count": 15,
   "metadata": {
    "collapsed": true
   },
   "outputs": [],
   "source": [
    "N=2000"
   ]
  },
  {
   "cell_type": "code",
   "execution_count": 211,
   "metadata": {
    "collapsed": false
   },
   "outputs": [],
   "source": [
    "limits = []\n",
    "for i in f[\"limits\"]:\n",
    "    limits.append(f[\"limits\"][str(i)].value)\n",
    "alpha_min = f[\"alphas\"][\"min_alpha\"].value\n",
    "alpha_max = f[\"alphas\"][\"max_alpha\"].value\n",
    "dalpha    = f[\"alphas\"][\"dalpha\"].value\n",
    "length    = f[\"alphas\"][\"length\"].value"
   ]
  },
  {
   "cell_type": "code",
   "execution_count": 212,
   "metadata": {
    "collapsed": false
   },
   "outputs": [
    {
     "data": {
      "text/plain": [
       "0.0"
      ]
     },
     "execution_count": 212,
     "metadata": {},
     "output_type": "execute_result"
    }
   ],
   "source": [
    "alphas = np.linspace(0.5, 1.999, length)\n",
    "dalpha-(alphas[1]-alphas[0])"
   ]
  },
  {
   "cell_type": "code",
   "execution_count": 276,
   "metadata": {
    "collapsed": true
   },
   "outputs": [],
   "source": [
    "def integrate(x):\n",
    "    alphas = x[0]\n",
    "    limits = x[1]\n",
    "    N = x[2]\n",
    "    from KGInt import integrateLevyCPU\n",
    "    import numpy as np\n",
    "    result = []\n",
    "    for i in range(len(alphas)):\n",
    "        rs     = np.linspace(limits[i][0], limits[i][1], N[i], np.double)\n",
    "        alpha  = np.array([alphas[i]]*N[i], np.double)\n",
    "        errors     = np.array([1e-8 ]*N[i], np.double)\n",
    "        error_rngs = np.array([1e-10]*N[i], np.double)\n",
    "        res    = integrateLevyCPU(rs, alpha, errors, error_rngs)\n",
    "        result.append( (rs[1]-rs[0],res) )\n",
    "    return result"
   ]
  },
  {
   "cell_type": "code",
   "execution_count": 271,
   "metadata": {
    "collapsed": true
   },
   "outputs": [],
   "source": [
    "length = 6\n",
    "a = alphas[500:(500+length)]\n",
    "l = limits[500:(500+length)]"
   ]
  },
  {
   "cell_type": "code",
   "execution_count": 258,
   "metadata": {
    "collapsed": true
   },
   "outputs": [],
   "source": [
    "nodes = 6\n",
    "work = int(length/nodes)"
   ]
  },
  {
   "cell_type": "code",
   "execution_count": 259,
   "metadata": {
    "collapsed": false
   },
   "outputs": [],
   "source": [
    "data = list(zip(*[iter(list(zip(a,l,len(a)*[N])))]*work))\n",
    "\n",
    "invn3 = lambda x,y: (x[0]+[y[0]], x[1]+[y[1]], x[2]+[y[2]])\n",
    "data = list(map(lambda x: reduce(invn3, x, ([],[],[])), data))"
   ]
  },
  {
   "cell_type": "code",
   "execution_count": 260,
   "metadata": {
    "collapsed": false
   },
   "outputs": [
    {
     "name": "stdout",
     "output_type": "stream",
     "text": [
      "Submitted batch job 1614226\n"
     ]
    }
   ],
   "source": [
    "%%bash\n",
    "sbatch -p hpc2005 -N 6 run_ipengines.sh"
   ]
  },
  {
   "cell_type": "code",
   "execution_count": 261,
   "metadata": {
    "collapsed": false
   },
   "outputs": [
    {
     "name": "stdout",
     "output_type": "stream",
     "text": [
      "             JOBID PARTITION     NAME     USER ST       TIME  NODES NODELIST(REASON)\n",
      "           1614226   hpc2005 run_ipen battila9 PD       0:00      6 (Resources)\n",
      "           1614225   hpc2005 run_ipen battila9  R       6:34      6 blade[07-12]\n"
     ]
    }
   ],
   "source": [
    "%%bash\n",
    "squeue -u battila93"
   ]
  },
  {
   "cell_type": "code",
   "execution_count": 262,
   "metadata": {
    "collapsed": false
   },
   "outputs": [],
   "source": [
    "c = Client(profile=open(\"slurm_profile\").readline().replace(\"\\n\", \"\"))\n",
    "dv = c[:]"
   ]
  },
  {
   "cell_type": "code",
   "execution_count": 296,
   "metadata": {
    "collapsed": false
   },
   "outputs": [
    {
     "data": {
      "text/plain": [
       "{'unassigned': 0,\n",
       " 0: {'completed': 6, 'queue': 1, 'tasks': 0},\n",
       " 1: {'completed': 6, 'queue': 1, 'tasks': 0},\n",
       " 2: {'completed': 6, 'queue': 1, 'tasks': 0},\n",
       " 3: {'completed': 6, 'queue': 1, 'tasks': 0},\n",
       " 4: {'completed': 6, 'queue': 1, 'tasks': 0},\n",
       " 5: {'completed': 7, 'queue': 0, 'tasks': 0}}"
      ]
     },
     "execution_count": 296,
     "metadata": {},
     "output_type": "execute_result"
    }
   ],
   "source": [
    "c.queue_status()"
   ]
  },
  {
   "cell_type": "code",
   "execution_count": 279,
   "metadata": {
    "collapsed": true
   },
   "outputs": [],
   "source": [
    "map_result = dv.map_async(integrate, data)"
   ]
  },
  {
   "cell_type": "code",
   "execution_count": 284,
   "metadata": {
    "collapsed": false
   },
   "outputs": [
    {
     "data": {
      "text/plain": [
       "[None, None, None, None, None, None]"
      ]
     },
     "execution_count": 284,
     "metadata": {},
     "output_type": "execute_result"
    }
   ],
   "source": [
    "map_result.status"
   ]
  },
  {
   "cell_type": "code",
   "execution_count": 285,
   "metadata": {
    "collapsed": false
   },
   "outputs": [
    {
     "data": {
      "text/plain": [
       "[None, None, None, None, None, None]"
      ]
     },
     "execution_count": 285,
     "metadata": {},
     "output_type": "execute_result"
    }
   ],
   "source": [
    "map_result.error"
   ]
  },
  {
   "cell_type": "code",
   "execution_count": 299,
   "metadata": {
    "collapsed": false
   },
   "outputs": [
    {
     "name": "stdout",
     "output_type": "stream",
     "text": [
      "   6/6 tasks finished after 1322 s\n",
      "done\n"
     ]
    }
   ],
   "source": [
    "map_result.wait_interactive()"
   ]
  },
  {
   "cell_type": "code",
   "execution_count": 300,
   "metadata": {
    "collapsed": false
   },
   "outputs": [
    {
     "name": "stdout",
     "output_type": "stream",
     "text": [
      "[stdout:0] \n",
      "->CPU: elapsed time = 141174.0 ms\n",
      "->CPU: elapsed time = 57165.0 ms\n",
      "->CPU: elapsed time = 140906.0 ms\n",
      "->CPU: elapsed time = 140729.0 ms\n",
      "->CPU: elapsed time = 140684.0 ms\n",
      "->CPU: elapsed time = 140575.0 ms\n",
      "->CPU: elapsed time = 140502.0 ms\n",
      "->CPU: elapsed time = 140389.0 ms\n",
      "->CPU: elapsed time = 140280.0 ms\n",
      "->CPU: elapsed time = 140147.0 ms\n",
      "[stdout:1] \n",
      "->CPU: elapsed time = 140902.0 ms\n",
      "->CPU: elapsed time = 140766.0 ms\n",
      "->CPU: elapsed time = 40079.0 ms\n",
      "->CPU: elapsed time = 140462.0 ms\n",
      "->CPU: elapsed time = 140405.0 ms\n",
      "->CPU: elapsed time = 140275.0 ms\n",
      "->CPU: elapsed time = 140220.0 ms\n",
      "->CPU: elapsed time = 140110.0 ms\n",
      "->CPU: elapsed time = 140032.0 ms\n",
      "->CPU: elapsed time = 139970.0 ms\n",
      "[stdout:2] \n",
      "->CPU: elapsed time = 138738.0 ms\n",
      "->CPU: elapsed time = 138646.0 ms\n",
      "->CPU: elapsed time = 138586.0 ms\n",
      "->CPU: elapsed time = 55320.0 ms\n",
      "->CPU: elapsed time = 138232.0 ms\n",
      "->CPU: elapsed time = 138146.0 ms\n",
      "->CPU: elapsed time = 138098.0 ms\n",
      "->CPU: elapsed time = 138012.0 ms\n",
      "->CPU: elapsed time = 137842.0 ms\n",
      "->CPU: elapsed time = 137787.0 ms\n",
      "[stdout:3] \n",
      "->CPU: elapsed time = 137574.0 ms\n",
      "->CPU: elapsed time = 137547.0 ms\n",
      "->CPU: elapsed time = 137408.0 ms\n",
      "->CPU: elapsed time = 137326.0 ms\n",
      "->CPU: elapsed time = 38798.0 ms\n",
      "->CPU: elapsed time = 137023.0 ms\n",
      "->CPU: elapsed time = 136949.0 ms\n",
      "->CPU: elapsed time = 136843.0 ms\n",
      "->CPU: elapsed time = 136763.0 ms\n",
      "->CPU: elapsed time = 136676.0 ms\n",
      "[stdout:4] \n",
      "->CPU: elapsed time = 136759.0 ms\n",
      "->CPU: elapsed time = 136610.0 ms\n",
      "->CPU: elapsed time = 136545.0 ms\n",
      "->CPU: elapsed time = 136450.0 ms\n",
      "->CPU: elapsed time = 136422.0 ms\n",
      "->CPU: elapsed time = 38366.0 ms\n",
      "->CPU: elapsed time = 136102.0 ms\n",
      "->CPU: elapsed time = 136099.0 ms\n",
      "->CPU: elapsed time = 135946.0 ms\n",
      "->CPU: elapsed time = 135867.0 ms\n",
      "[stdout:5] \n",
      "->CPU: elapsed time = 136016.0 ms\n",
      "->CPU: elapsed time = 135947.0 ms\n",
      "->CPU: elapsed time = 135874.0 ms\n",
      "->CPU: elapsed time = 135800.0 ms\n",
      "->CPU: elapsed time = 135694.0 ms\n",
      "->CPU: elapsed time = 135635.0 ms\n",
      "->CPU: elapsed time = 36307.0 ms\n",
      "->CPU: elapsed time = 38002.0 ms\n",
      "->CPU: elapsed time = 135128.0 ms\n",
      "->CPU: elapsed time = 135047.0 ms\n"
     ]
    }
   ],
   "source": [
    "map_result.display_outputs()"
   ]
  },
  {
   "cell_type": "code",
   "execution_count": 302,
   "metadata": {
    "collapsed": false
   },
   "outputs": [],
   "source": [
    "result=map_result.get()"
   ]
  },
  {
   "cell_type": "code",
   "execution_count": 307,
   "metadata": {
    "collapsed": false
   },
   "outputs": [],
   "source": [
    "rrr=reduce(concat, result)"
   ]
  },
  {
   "cell_type": "code",
   "execution_count": 323,
   "metadata": {
    "collapsed": false
   },
   "outputs": [],
   "source": [
    "f = h5.File(\"Levy2_new.h5\", \"w\")"
   ]
  },
  {
   "cell_type": "code",
   "execution_count": 324,
   "metadata": {
    "collapsed": true
   },
   "outputs": [],
   "source": [
    "def writeList(f, name, data):\n",
    "    grp = f.create_group(name)\n",
    "    for i in range(len(data)):\n",
    "        grp.create_dataset(str(i), data=data[i])"
   ]
  },
  {
   "cell_type": "code",
   "execution_count": 377,
   "metadata": {
    "collapsed": true
   },
   "outputs": [],
   "source": [
    "invn2a2 = lambda x,y: (x[0]+[y[0]], x[1]+[y[1][0]], x[2]+[y[1][1]])\n",
    "prepdat = reduce(lambda x,y:(x[0]+[y[0]],x[1]+[y[1]]), map(lambda x:(x[0],x[1][:,0]), rrr), ([],[]))"
   ]
  },
  {
   "cell_type": "code",
   "execution_count": 385,
   "metadata": {
    "collapsed": true
   },
   "outputs": [],
   "source": [
    "limits = l\n",
    "alphas = a"
   ]
  },
  {
   "cell_type": "code",
   "execution_count": 387,
   "metadata": {
    "collapsed": false
   },
   "outputs": [
    {
     "data": {
      "text/plain": [
       "<HDF5 dataset \"length\": shape (), type \"<i8\">"
      ]
     },
     "execution_count": 387,
     "metadata": {},
     "output_type": "execute_result"
    }
   ],
   "source": [
    "writeList(f, \"dr\", prepdat[0])\n",
    "writeList(f, \"Lr\", prepdat[1])\n",
    "writeList(f, \"limits\", limits)\n",
    "grp = f.create_group(\"/alphas\")\n",
    "grp.create_dataset(\"dalpha\", data=np.array(alphas[1]-alphas[0], np.double))\n",
    "grp.create_dataset(\"min_alpha\", data=np.array(alphas[0], np.double))\n",
    "grp.create_dataset(\"max_alpha\", data=np.array(alphas[-1], np.double))\n",
    "grp.create_dataset(\"length\", data=np.array(len(alphas), np.int))"
   ]
  },
  {
   "cell_type": "code",
   "execution_count": 395,
   "metadata": {
    "collapsed": true
   },
   "outputs": [],
   "source": [
    "f.close()"
   ]
  },
  {
   "cell_type": "code",
   "execution_count": null,
   "metadata": {
    "collapsed": true
   },
   "outputs": [],
   "source": []
  }
 ],
 "metadata": {
  "kernelspec": {
   "display_name": "Python 3",
   "language": "python",
   "name": "python3"
  },
  "language_info": {
   "codemirror_mode": {
    "name": "ipython",
    "version": 3
   },
   "file_extension": ".py",
   "mimetype": "text/x-python",
   "name": "python",
   "nbconvert_exporter": "python",
   "pygments_lexer": "ipython3",
   "version": "3.6.0"
  }
 },
 "nbformat": 4,
 "nbformat_minor": 2
}
